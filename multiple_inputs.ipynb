{
 "cells": [
  {
   "cell_type": "code",
   "execution_count": 3,
   "id": "60ce447c",
   "metadata": {},
   "outputs": [],
   "source": [
    "from typing import Dict,TypedDict,List\n",
    "from langgraph.graph import StateGraph"
   ]
  },
  {
   "cell_type": "code",
   "execution_count": null,
   "id": "d6e2914e",
   "metadata": {},
   "outputs": [],
   "source": [
    "class AgentState(TypedDict):\n",
    "    values : List[int]\n",
    "    name : str\n",
    "    result : str\n"
   ]
  },
  {
   "cell_type": "code",
   "execution_count": 13,
   "id": "7f34d31c",
   "metadata": {},
   "outputs": [],
   "source": [
    "def process_values(state : AgentState) -> AgentState:\n",
    "    \"\"\"This function handles multiple different inputs\"\"\"\n",
    "    print(state)\n",
    "\n",
    "    state[\"result\"] = f\"Hii there {state['name']}  Your sum = {sum(state['values'])}\"\n",
    "\n",
    "    print(state)\n",
    "\n",
    "    return state\n",
    "\n"
   ]
  },
  {
   "cell_type": "code",
   "execution_count": 14,
   "id": "3836e2b3",
   "metadata": {},
   "outputs": [],
   "source": [
    "graph = StateGraph(AgentState)\n",
    "graph.add_node(\"Processor\" , process_values)\n",
    "\n",
    "graph.set_entry_point(\"Processor\")\n",
    "graph.set_finish_point(\"Processor\")\n",
    "app = graph.compile()"
   ]
  },
  {
   "cell_type": "code",
   "execution_count": 16,
   "id": "a72fc370",
   "metadata": {},
   "outputs": [
    {
     "name": "stdout",
     "output_type": "stream",
     "text": [
      "{'values': [10, 20], 'name': 'ritika'}\n",
      "{'values': [10, 20], 'name': 'ritika', 'result': 'Hii there ritika  Your sum = 30'}\n"
     ]
    }
   ],
   "source": [
    "res = app.invoke({\"values\":[10,20] , \"name\":\"ritika\"})\n"
   ]
  },
  {
   "cell_type": "code",
   "execution_count": 12,
   "id": "60a2755c",
   "metadata": {},
   "outputs": [
    {
     "data": {
      "text/plain": [
       "'Hii there ritika  Your sum = 30'"
      ]
     },
     "execution_count": 12,
     "metadata": {},
     "output_type": "execute_result"
    }
   ],
   "source": [
    "res[\"result\"]"
   ]
  },
  {
   "cell_type": "code",
   "execution_count": 9,
   "id": "724cbd1d",
   "metadata": {},
   "outputs": [
    {
     "data": {
      "image/png": "[encoded data removed]",
      "text/plain": [
       "<IPython.core.display.Image object>"
      ]
     },
     "metadata": {},
     "output_type": "display_data"
    }
   ],
   "source": [
    "from IPython.display import Image,display\n",
    "display(Image(app.get_graph().draw_mermaid_png()))"
   ]
  },
  {
   "cell_type": "code",
   "execution_count": null,
   "id": "ed0ab786",
   "metadata": {},
   "outputs": [],
   "source": [
    "class AgentState(TypedDict):\n",
    "    name : str\n",
    "    values : List[int]\n",
    "    operation : str\n",
    "    result : str\n"
   ]
  },
  {
   "cell_type": "code",
   "execution_count": null,
   "id": "c0a2bd0a",
   "metadata": {},
   "outputs": [],
   "source": [
    "from functools import reduce\n",
    "import operator\n",
    "\n",
    "def processing(state:AgentState) -> AgentState:\n",
    "    if state[\"operation\"] == \"+\":\n",
    "        state[\"result\"] = f\"HII {state['name']} , ur answer is : {sum(state['values'])}\"\n",
    "    elif state[\"operation\"] == \"*\":\n",
    "        state[\"result\"] = f\"HII {state['name']} , ur answer is : {reduce(operator.mul, state['values'], 1)}\"\n",
    "\n",
    "\n",
    "    print(state)"
   ]
  },
  {
   "cell_type": "code",
   "execution_count": 22,
   "id": "717b2952",
   "metadata": {},
   "outputs": [],
   "source": [
    "graph = StateGraph(AgentState)\n",
    "\n",
    "graph.add_node(\"solver\" , processing)\n",
    "\n",
    "graph.set_entry_point(\"solver\")\n",
    "graph.set_finish_point(\"solver\")\n",
    "\n",
    "app = graph.compile()\n"
   ]
  },
  {
   "cell_type": "code",
   "execution_count": 24,
   "id": "7d1aa8f3",
   "metadata": {},
   "outputs": [
    {
     "name": "stdout",
     "output_type": "stream",
     "text": [
      "{'name': 'ritika', 'values': [10, 20], 'operation': '*', 'result': 'HII ritika , ur answer is : 200'}\n"
     ]
    }
   ],
   "source": [
    "res = app.invoke({\"name\" : \"ritika\" , \"values\":[10,20] , \"operation\":\"*\"})"
   ]
  },
  {
   "cell_type": "code",
   "execution_count": null,
   "id": "c53f6850",
   "metadata": {},
   "outputs": [],
   "source": []
  }
 ],
 "metadata": {
  "kernelspec": {
   "display_name": "venv",
   "language": "python",
   "name": "python3"
  },
  "language_info": {
   "codemirror_mode": {
    "name": "ipython",
    "version": 3
   },
   "file_extension": ".py",
   "mimetype": "text/x-python",
   "name": "python",
   "nbconvert_exporter": "python",
   "pygments_lexer": "ipython3",
   "version": "3.10.0"
  }
 },
 "nbformat": 4,
 "nbformat_minor": 5
}
